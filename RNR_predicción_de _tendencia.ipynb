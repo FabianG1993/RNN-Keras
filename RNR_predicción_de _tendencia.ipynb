{
  "cells": [
    {
      "cell_type": "markdown",
      "metadata": {
        "id": "UumjkhCNgRSS"
      },
      "source": [
        "**Mineria de datos**"
      ]
    },
    {
      "cell_type": "code",
      "execution_count": null,
      "metadata": {
        "id": "CzmXKJoMgYLn"
      },
      "outputs": [],
      "source": [
        "!pip install yfinance "
      ]
    },
    {
      "cell_type": "code",
      "execution_count": null,
      "metadata": {
        "id": "6YonQLFtgQN6"
      },
      "outputs": [],
      "source": [
        "import pandas as pd\n",
        "from pandas_datareader import data\n",
        "from pandas_datareader._utils import RemoteDataError\n",
        "import matplotlib.pyplot as plt\n",
        "import numpy as np\n",
        "from datetime import datetime,timedelta\n",
        "import yfinance as yf"
      ]
    },
    {
      "cell_type": "code",
      "execution_count": null,
      "metadata": {
        "id": "mHqwYtGKgvY7"
      },
      "outputs": [],
      "source": [
        "#extracción de datos train_set\n",
        "start_date = (datetime.now()-timedelta(50)).strftime('2017-1-1')\n",
        "end_date = datetime.now().strftime('2022-02-28')\n",
        "key = 'KO'\n",
        "\n",
        "def get_data(ticker):\n",
        "  try:\n",
        "    tickerData = yf.Ticker(key)\n",
        "    stock_data = tickerData.history(period='1d', start=start_date, end=end_date) \n",
        "  except RemoteDataError:\n",
        "    print('No data found for {t}'.format(t=ticker))\n",
        "  return stock_data\n"
      ]
    },
    {
      "cell_type": "code",
      "execution_count": null,
      "metadata": {
        "id": "3wHet_8bg8os",
        "colab": {
          "base_uri": "https://localhost:8080/"
        },
        "outputId": "a9702153-9b24-4c15-de61-e3f8fd75f369"
      },
      "outputs": [
        {
          "output_type": "execute_result",
          "data": {
            "text/plain": [
              "(1297, 7)"
            ]
          },
          "metadata": {},
          "execution_count": 5
        }
      ],
      "source": [
        "train_set = get_data(key)\n",
        "train_set.shape"
      ]
    },
    {
      "cell_type": "markdown",
      "metadata": {
        "id": "tOh5RXYOucUI"
      },
      "source": [
        "**Preprocesado de los datos**"
      ]
    },
    {
      "cell_type": "code",
      "execution_count": null,
      "metadata": {
        "colab": {
          "base_uri": "https://localhost:8080/"
        },
        "id": "MiQXh5pNhRUv",
        "outputId": "4cc595d1-48f5-4e49-8edb-f661b264a9a8"
      },
      "outputs": [
        {
          "output_type": "execute_result",
          "data": {
            "text/plain": [
              "Open            0\n",
              "High            0\n",
              "Low             0\n",
              "Close           0\n",
              "Volume          0\n",
              "Dividends       0\n",
              "Stock Splits    0\n",
              "dtype: int64"
            ]
          },
          "metadata": {},
          "execution_count": 6
        }
      ],
      "source": [
        "# Comprobar datos nulos \n",
        "train_set.isnull().sum()"
      ]
    },
    {
      "cell_type": "code",
      "execution_count": null,
      "metadata": {
        "id": "4T2biq73uzIX"
      },
      "outputs": [],
      "source": [
        "# Importar el dataset de entrenamiento\n",
        "\n",
        "#X_train, X_test = train_test_split(data, test_size=0.33, random_state=42)\n",
        "training_set  = train_set.iloc[:, 1:2].values # columnas de fecha & valor de apertura"
      ]
    },
    {
      "cell_type": "code",
      "execution_count": null,
      "metadata": {
        "id": "mbKnc8iBuwuM"
      },
      "outputs": [],
      "source": [
        "# Escalado de características\n",
        "from sklearn.preprocessing import MinMaxScaler\n",
        "\n",
        "sc = MinMaxScaler(feature_range = (0, 1)) #escalador\n",
        "training_set_scaled = sc.fit_transform(training_set) #normalización"
      ]
    },
    {
      "cell_type": "code",
      "execution_count": null,
      "metadata": {
        "id": "3KiTNpagutoS"
      },
      "outputs": [],
      "source": [
        "# Crear una estructura de datos con 60 timesteps y 1 salida\n",
        "X_train = []\n",
        "y_train = []\n",
        "for i in range(60, 1297):\n",
        "    X_train.append(training_set_scaled[i-60:i, 0]) #60 dias atras\n",
        "    y_train.append(training_set_scaled[i, 0]) #valor actual \n",
        "X_train, y_train = np.array(X_train), np.array(y_train) #convertir a objeto numpy"
      ]
    },
    {
      "cell_type": "code",
      "execution_count": null,
      "metadata": {
        "id": "mTIPfpv8uqnz"
      },
      "outputs": [],
      "source": [
        "# Redimensión de los datos -> estructura para agregar más datos\n",
        "X_train = np.reshape(X_train, (X_train.shape[0], X_train.shape[1], 1)) # nuevas dimensiones y 1 = var predictora"
      ]
    },
    {
      "cell_type": "markdown",
      "metadata": {
        "id": "g7UPbzYtuiXH"
      },
      "source": [
        "**Construcción de la RNR**"
      ]
    },
    {
      "cell_type": "code",
      "execution_count": null,
      "metadata": {
        "id": "2XFkR5qkvNW9"
      },
      "outputs": [],
      "source": [
        "from keras.models import Sequential\n",
        "from keras.layers import Dense, LSTM, Dropout"
      ]
    },
    {
      "cell_type": "code",
      "execution_count": null,
      "metadata": {
        "id": "EkXeYP_WuUua"
      },
      "outputs": [],
      "source": [
        "# Inicialización del modelo\n",
        "regressor = Sequential()\n",
        "\n",
        "# Añadir la primera capa de LSTM y la regulariación por Dropout\n",
        "regressor.add(LSTM(units = 50, return_sequences = True, input_shape = (X_train.shape[1], 1) )) #return sequence para aunar a la siguiente capa\n",
        "regressor.add(Dropout(0.2)) #desactivar 20% neuronas aleatoriamente para prevenir overfiting \n",
        "\n",
        "# Añadir la segunda capa de LSTM y la regulariación por Dropout\n",
        "regressor.add(LSTM(units = 50, return_sequences = True ))\n",
        "regressor.add(Dropout(0.2))\n",
        "\n",
        "# Añadir la tercera capa de LSTM y la regulariación por Dropout\n",
        "regressor.add(LSTM(units = 50, return_sequences = True ))\n",
        "regressor.add(Dropout(0.2))\n",
        "\n",
        "# Añadir la cuarta capa de LSTM y la regulariación por Dropout\n",
        "regressor.add(LSTM(units = 50)) # ya no es necesario usar el return sequence \n",
        "regressor.add(Dropout(0.2))\n",
        "\n",
        "# Añadir la capa de salida\n",
        "regressor.add(Dense(units = 1)) #capa densa totalmente conectada con una sola neurona externa"
      ]
    },
    {
      "cell_type": "code",
      "execution_count": null,
      "metadata": {
        "id": "uEilyOhYvIYN"
      },
      "outputs": [],
      "source": [
        "# Compilar la RNR\n",
        "regressor.compile(optimizer = 'adam', loss = 'mean_squared_error')"
      ]
    },
    {
      "cell_type": "code",
      "execution_count": null,
      "metadata": {
        "id": "Eeq6Wk0wvGru"
      },
      "outputs": [],
      "source": [
        "# Ajustar la RNR al conjunto de entrenamiento\n",
        "regressor.fit(X_train, y_train, epochs = 90, batch_size = 32)\n",
        "              #entrada, predicción, iteraciones, tamaño de lote sobre los que se iterará"
      ]
    },
    {
      "cell_type": "code",
      "execution_count": null,
      "metadata": {
        "colab": {
          "base_uri": "https://localhost:8080/",
          "height": 296
        },
        "id": "RZN-yI5tRtMu",
        "outputId": "5588e589-c3c5-4577-ea92-a92d5d55faf2"
      },
      "outputs": [
        {
          "output_type": "execute_result",
          "data": {
            "text/plain": [
              "[<matplotlib.lines.Line2D at 0x7f5e8f9ea890>]"
            ]
          },
          "metadata": {},
          "execution_count": 15
        },
        {
          "output_type": "display_data",
          "data": {
            "text/plain": [
              "<Figure size 432x288 with 1 Axes>"
            ],
            "image/png": "[encoded data removed]"
          },
          "metadata": {
            "needs_background": "light"
          }
        }
      ],
      "source": [
        "#observar proceso de aprendizaje \n",
        "import matplotlib.pyplot as plt\n",
        "plt.xlabel(\"# Epoca\")\n",
        "plt.ylabel(\"Magnitud de pérdida\")\n",
        "plt.plot(regressor.history.history[\"loss\"])"
      ]
    },
    {
      "cell_type": "markdown",
      "metadata": {
        "id": "sQL6-fnvu89R"
      },
      "source": [
        "**Ajustar las predicciones y visualizar los resultados**"
      ]
    },
    {
      "cell_type": "code",
      "source": [
        "#extracción de datos test_set\n",
        "start_date2 = (datetime.now()-timedelta(50)).strftime('2022-03-01')\n",
        "end_date2 = datetime.now().strftime('2022-05-31')\n",
        "\n",
        "\n",
        "def get_data2(ticker):\n",
        "  try:\n",
        "    tickerData = yf.Ticker(key)\n",
        "    stock_data = tickerData.history(period='1d', start=start_date2, end=end_date2) \n",
        "  except RemoteDataError:\n",
        "    print('No data found for {t}'.format(t=ticker))\n",
        "  return stock_data"
      ],
      "metadata": {
        "id": "BrnaMovcmyzL"
      },
      "execution_count": null,
      "outputs": []
    },
    {
      "cell_type": "code",
      "source": [
        "test_set = get_data2(key)"
      ],
      "metadata": {
        "id": "TH-aRlhom2BU"
      },
      "execution_count": null,
      "outputs": []
    },
    {
      "cell_type": "code",
      "execution_count": null,
      "metadata": {
        "id": "L8qZdeFyuS39"
      },
      "outputs": [],
      "source": [
        "# Obtener el valor de las acciones reales ultimo trimestre\n",
        "real_stock_price = test_set.iloc[:, 1:2].values"
      ]
    },
    {
      "cell_type": "code",
      "execution_count": null,
      "metadata": {
        "id": "16AgQSC5uORP"
      },
      "outputs": [],
      "source": [
        "# Obtener la predicción de la acción con la RNR para Enero de 2017\n",
        "dataset_total = pd.concat((train_set['Open'], test_set['Open']), axis = 0)\n",
        "\n",
        "# Entradas\n",
        "inputs = dataset_total[len(dataset_total) - len(test_set) - 60:].values\n",
        "                      # ultimo dia del periodo - 60 : 20\n",
        "inputs = inputs.reshape(-1,1) # vector fila a vector columna \n",
        "inputs = sc.transform(inputs) # escalado de los datos\n",
        "\n",
        "X_test = []\n",
        "for i in range(60, 123):\n",
        "    X_test.append(inputs[i-60:i, 0])\n",
        "X_test = np.array(X_test)\n",
        "X_test = np.reshape(X_test, (X_test.shape[0], X_test.shape[1], 1))\n",
        "\n",
        "predicted_stock_price = regressor.predict(X_test)\n",
        "predicted_stock_price = sc.inverse_transform(predicted_stock_price)"
      ]
    },
    {
      "cell_type": "code",
      "execution_count": null,
      "metadata": {
        "colab": {
          "base_uri": "https://localhost:8080/",
          "height": 295
        },
        "id": "Y8Pd450GuMWv",
        "outputId": "2c9eb13d-1fea-4e31-df1c-f8737e9aa968"
      },
      "outputs": [
        {
          "output_type": "display_data",
          "data": {
            "text/plain": [
              "<Figure size 432x288 with 1 Axes>"
            ],
            "image/png": "[encoded data removed]"
          },
          "metadata": {
            "needs_background": "light"
          }
        }
      ],
      "source": [
        "# Visualizar los Resultados\n",
        "plt.plot(real_stock_price, color = 'red', label = 'Precio Real de la Accion de {t}'.format(t=key))\n",
        "plt.plot(predicted_stock_price, color = 'blue', label = 'Precio Predicho de la Accion de {t}'.format(t=key))\n",
        "plt.title(\"Prediccion de tendencia acciones de {t}\".format(t=key))\n",
        "plt.xlabel(\"Fecha\")\n",
        "plt.ylabel(\"Precio de la accion de {t}\".format(t=key))\n",
        "plt.legend()\n",
        "plt.show()"
      ]
    },
    {
      "cell_type": "code",
      "source": [
        "# guardar modelo\n",
        "import pickle\n",
        "\n",
        "filename = '/content/drive/MyDrive/Red neuronal recurrente/rnr_model1.sav'\n",
        "pickle.dump(regressor, open(filename, 'wb'))\n",
        "\n",
        "# cargar modelo\n",
        "loaded_model = pickle.load(open(filename, 'rb'))\n",
        "\n"
      ],
      "metadata": {
        "id": "U-qfJfm1wzRF"
      },
      "execution_count": null,
      "outputs": []
    }
  ],
  "metadata": {
    "colab": {
      "collapsed_sections": [],
      "name": "RNR - acciones.ipynb",
      "provenance": []
    },
    "kernelspec": {
      "display_name": "Python 3",
      "name": "python3"
    },
    "language_info": {
      "name": "python"
    }
  },
  "nbformat": 4,
  "nbformat_minor": 0
}